{
 "cells": [
  {
   "cell_type": "markdown",
   "metadata": {},
   "source": [
    "Using a read7() method that returns 7 characters from a file, implement readN(n) which reads n characters.\n",
    "\n",
    "For example, given a file with the content “Hello world”, three read7() returns “Hello w”, “orld” and then “”."
   ]
  },
  {
   "cell_type": "code",
   "execution_count": 37,
   "metadata": {},
   "outputs": [],
   "source": [
    "import dataclasses\n",
    "from typing import Any\n",
    "\n",
    "@dataclasses.dataclass\n",
    "class ReaderOf7:\n",
    "    fpin: Any\n",
    "    def read7(self):\n",
    "        return self.fpin.read(7)"
   ]
  },
  {
   "cell_type": "code",
   "execution_count": 66,
   "metadata": {},
   "outputs": [],
   "source": [
    "@dataclasses.dataclass\n",
    "class ReaderOfN:\n",
    "    reader_of_7: ReaderOf7\n",
    "    _buffer: str = dataclasses.field(init=False, default=\"\")\n",
    "    def readN(self, n):\n",
    "        def _inner(n):\n",
    "            first_part, self._buffer = self._buffer[:n], self._buffer[n:]\n",
    "            yield first_part\n",
    "            n -= len(first_part)\n",
    "            chunks, extra = divmod(n, 7)\n",
    "            for i in range(chunks):\n",
    "                yield self.reader_of_7.read7()\n",
    "            if extra != 0:\n",
    "                extra_bit = self.reader_of_7.read7()\n",
    "                yield extra_bit[:extra]\n",
    "                self._buffer += extra_bit[extra:]\n",
    "        return ''.join(_inner(n))"
   ]
  },
  {
   "cell_type": "code",
   "execution_count": 73,
   "metadata": {},
   "outputs": [
    {
     "name": "stdout",
     "output_type": "stream",
     "text": [
      "'T'\n",
      "was brillig, and the slithy toves\n",
      "Did gyre and gimble in the wabe;\n",
      "All mimsy were the borogoves,\n",
      "And the mome raths outgrabe.\n",
      "\n",
      "“Beware the Jabberwock, my son!\n",
      "The jaws that bite, the claws that catch!\n",
      "Beware the Jubjub bird, and shun\n",
      "The frumious Bandersnatch!”\n",
      "\n"
     ]
    }
   ],
   "source": [
    "my_fpin = io.StringIO(\"\"\"\\\n",
    "Twas brillig, and the slithy toves\n",
    "Did gyre and gimble in the wabe;\n",
    "All mimsy were the borogoves,\n",
    "And the mome raths outgrabe.\n",
    "\n",
    "“Beware the Jabberwock, my son!\n",
    "The jaws that bite, the claws that catch!\n",
    "Beware the Jubjub bird, and shun\n",
    "The frumious Bandersnatch!”\n",
    "\"\"\")\n",
    "my_readerof7 = ReaderOf7(my_fpin)\n",
    "my_readerofn = ReaderOfN(my_readerof7)\n",
    "print(repr(my_readerofn.readN(1)))\n",
    "LEN = 7\n",
    "print(''.join(my_readerofn.readN(7) for i in range(100)))"
   ]
  },
  {
   "cell_type": "code",
   "execution_count": null,
   "metadata": {},
   "outputs": [],
   "source": []
  }
 ],
 "metadata": {
  "kernelspec": {
   "display_name": "Python 3",
   "language": "python",
   "name": "python3"
  },
  "language_info": {
   "codemirror_mode": {
    "name": "ipython",
    "version": 3
   },
   "file_extension": ".py",
   "mimetype": "text/x-python",
   "name": "python",
   "nbconvert_exporter": "python",
   "pygments_lexer": "ipython3",
   "version": "3.8.3"
  }
 },
 "nbformat": 4,
 "nbformat_minor": 4
}
